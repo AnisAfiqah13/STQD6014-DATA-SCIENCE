{
  "nbformat": 4,
  "nbformat_minor": 0,
  "metadata": {
    "colab": {
      "provenance": [],
      "include_colab_link": true
    },
    "kernelspec": {
      "name": "python3",
      "display_name": "Python 3"
    },
    "language_info": {
      "name": "python"
    }
  },
  "cells": [
    {
      "cell_type": "markdown",
      "metadata": {
        "id": "view-in-github",
        "colab_type": "text"
      },
      "source": [
        "<a href=\"https://colab.research.google.com/github/AnisAfiqah13/STQD6014-DATA-SCIENCE/blob/main/Anis_Week3_20231104.ipynb\" target=\"_parent\"><img src=\"https://colab.research.google.com/assets/colab-badge.svg\" alt=\"Open In Colab\"/></a>"
      ]
    },
    {
      "cell_type": "markdown",
      "source": [
        "# **Week 03: If Statement**"
      ],
      "metadata": {
        "id": "wAJzPiuPfytH"
      }
    },
    {
      "cell_type": "code",
      "execution_count": null,
      "metadata": {
        "id": "K3kRlxvX6A7L",
        "colab": {
          "base_uri": "https://localhost:8080/"
        },
        "outputId": "00e4876f-ac77-45a1-a675-180392f46f37"
      },
      "outputs": [
        {
          "output_type": "stream",
          "name": "stdout",
          "text": [
            "Audi\n",
            "BMW\n",
            "Subaru\n",
            "Toyota\n"
          ]
        }
      ],
      "source": [
        "# Exercise 1\n",
        "cars = ['audi', 'bmw', 'subaru', 'toyota']\n",
        "\n",
        "for car in cars:\n",
        "    if car == 'bmw':\n",
        "        print(car.upper())\n",
        "    else:\n",
        "        print(car.title())\n",
        "\n",
        "\n",
        "\n"
      ]
    },
    {
      "cell_type": "code",
      "source": [
        "# Exercise 2\n",
        "requested_topping = 'fish'\n",
        "if requested_topping != 'anchovies':\n",
        "    print('Hold the anchovies')\n",
        "else:\n",
        "    print('Anis, please serve the anchovies fast!!!!!')"
      ],
      "metadata": {
        "id": "fviS0BYz8fUO",
        "colab": {
          "base_uri": "https://localhost:8080/"
        },
        "outputId": "c2c1f766-3221-48f1-892b-40a7444d0944"
      },
      "execution_count": null,
      "outputs": [
        {
          "output_type": "stream",
          "name": "stdout",
          "text": [
            "Hold the anchovies\n"
          ]
        }
      ]
    },
    {
      "cell_type": "code",
      "source": [
        "# Exercise 3\n",
        "age_0 = 22\n",
        "age_1 = 18"
      ],
      "metadata": {
        "id": "hV59aeSw8uSF"
      },
      "execution_count": null,
      "outputs": []
    },
    {
      "cell_type": "code",
      "source": [
        "# Checking using different condition\n",
        "# age_0 < 21 and age_1 < 21 - FALSE\n",
        "# age_0 < 21 or age_1 < 21 - TRUE\n",
        "# age_0 >= 21 and age_1 >= 21 - FALSE\n",
        "# age_0 >= 21 or age_1 >= 21 - TRUE\n",
        "# age_0 >= 21 and age_1 >= 21 - FALSE\n",
        "age_0 < 21 and age_1 < 21"
      ],
      "metadata": {
        "id": "69W0k1_NgKOS",
        "colab": {
          "base_uri": "https://localhost:8080/"
        },
        "outputId": "794cfc5f-9502-4b4c-bf43-daabe6426f23"
      },
      "execution_count": null,
      "outputs": [
        {
          "output_type": "execute_result",
          "data": {
            "text/plain": [
              "False"
            ]
          },
          "metadata": {},
          "execution_count": 8
        }
      ]
    },
    {
      "cell_type": "code",
      "source": [
        "age_0 < 21 or age_1 < 21"
      ],
      "metadata": {
        "colab": {
          "base_uri": "https://localhost:8080/"
        },
        "id": "n2_uhYhlIHzX",
        "outputId": "8b37e0e9-2854-485e-ce8a-35087824eb34"
      },
      "execution_count": null,
      "outputs": [
        {
          "output_type": "execute_result",
          "data": {
            "text/plain": [
              "True"
            ]
          },
          "metadata": {},
          "execution_count": 9
        }
      ]
    },
    {
      "cell_type": "code",
      "source": [
        "age_0 >= 21 and age_1 >= 21"
      ],
      "metadata": {
        "colab": {
          "base_uri": "https://localhost:8080/"
        },
        "id": "iu_6SYKEIMKi",
        "outputId": "861126c2-d671-4d33-a63d-6913c152bd9e"
      },
      "execution_count": null,
      "outputs": [
        {
          "output_type": "execute_result",
          "data": {
            "text/plain": [
              "False"
            ]
          },
          "metadata": {},
          "execution_count": 10
        }
      ]
    },
    {
      "cell_type": "code",
      "source": [
        "age_0 >= 21 or age_1 >= 21"
      ],
      "metadata": {
        "colab": {
          "base_uri": "https://localhost:8080/"
        },
        "id": "WFBfAecDIODH",
        "outputId": "1ff27631-f798-4a6d-8e06-1683893d8fb5"
      },
      "execution_count": null,
      "outputs": [
        {
          "output_type": "execute_result",
          "data": {
            "text/plain": [
              "True"
            ]
          },
          "metadata": {},
          "execution_count": 11
        }
      ]
    },
    {
      "cell_type": "code",
      "source": [
        "age_0 >= 21 and age_1 >= 21"
      ],
      "metadata": {
        "colab": {
          "base_uri": "https://localhost:8080/"
        },
        "id": "mrr3xrLLIPde",
        "outputId": "1e33c475-7e8e-4028-b945-e54c1b377076"
      },
      "execution_count": null,
      "outputs": [
        {
          "output_type": "execute_result",
          "data": {
            "text/plain": [
              "False"
            ]
          },
          "metadata": {},
          "execution_count": 12
        }
      ]
    },
    {
      "cell_type": "markdown",
      "source": [
        "# **A point of ponder :)**"
      ],
      "metadata": {
        "id": "Wk6VCX9djopY"
      }
    },
    {
      "cell_type": "code",
      "source": [
        "# What would the following code evaluate to? True or False?\n",
        "# and why?\n",
        "age_0 and age_1 < 21"
      ],
      "metadata": {
        "id": "9xZGmLTVkHlh",
        "colab": {
          "base_uri": "https://localhost:8080/"
        },
        "outputId": "44648369-7180-4bd1-f17b-1c814c5dfd34"
      },
      "execution_count": null,
      "outputs": [
        {
          "output_type": "execute_result",
          "data": {
            "text/plain": [
              "True"
            ]
          },
          "metadata": {},
          "execution_count": 13
        }
      ]
    },
    {
      "cell_type": "code",
      "source": [
        "age_0"
      ],
      "metadata": {
        "colab": {
          "base_uri": "https://localhost:8080/"
        },
        "id": "WLin7xKZJkuR",
        "outputId": "148ec8b6-f622-4e38-c4c8-e1f8aec67a5c"
      },
      "execution_count": null,
      "outputs": [
        {
          "output_type": "execute_result",
          "data": {
            "text/plain": [
              "22"
            ]
          },
          "metadata": {},
          "execution_count": 14
        }
      ]
    },
    {
      "cell_type": "code",
      "source": [
        "# Exercise 4 - using the keyword in\n",
        "requested_topping = ['mushrooms', 'onions', 'pineapple']\n",
        "\n",
        "# Check whether mushrooms is in the topping list\n",
        "# case sensitive\n",
        "'mushrooms' in requested_topping\n",
        "# Check whether pepperoni is in the topping list\n",
        "'pepperoni' in requested_topping"
      ],
      "metadata": {
        "id": "z5wPseRl-VyI",
        "colab": {
          "base_uri": "https://localhost:8080/"
        },
        "outputId": "a4842b0a-e048-4d3c-e9f8-3df98d7127b9"
      },
      "execution_count": null,
      "outputs": [
        {
          "output_type": "execute_result",
          "data": {
            "text/plain": [
              "False"
            ]
          },
          "metadata": {},
          "execution_count": 16
        }
      ]
    },
    {
      "cell_type": "code",
      "source": [
        "# Exercise 5\n",
        "banned_users = ['andrew', 'carolina', 'david']\n",
        "\n",
        "# Check whether marie, 007 and andrew is in the banned user list\n",
        "#user = 'marie'\n",
        "user = 'marie'\n",
        "if user not in banned_users:\n",
        "    print(user.title() +\", you can post a response if you wish\")\n",
        "\n",
        "#user = 'andrew'\n"
      ],
      "metadata": {
        "id": "RWb1iy4I-eFb",
        "colab": {
          "base_uri": "https://localhost:8080/"
        },
        "outputId": "12f49efa-a901-4e8f-8571-9744f4832f8c"
      },
      "execution_count": null,
      "outputs": [
        {
          "output_type": "stream",
          "name": "stdout",
          "text": [
            "Marie, you can post a response if you wish\n"
          ]
        }
      ]
    },
    {
      "cell_type": "code",
      "source": [
        "# user = '007'\n",
        "user = 7\n",
        "if user not in banned_users:\n",
        "    print(str(user), \", you can post a response if you wish\")"
      ],
      "metadata": {
        "colab": {
          "base_uri": "https://localhost:8080/"
        },
        "id": "O5U4WsEhM79B",
        "outputId": "abf82314-520a-4ff5-8311-2063a36a6bae"
      },
      "execution_count": null,
      "outputs": [
        {
          "output_type": "stream",
          "name": "stdout",
          "text": [
            "7 , you can post a response if you wish\n"
          ]
        }
      ]
    },
    {
      "cell_type": "code",
      "source": [
        "# Try it yourself\n",
        "# Try making sense of it\n",
        "car = 'subaru'\n",
        "print(\"Is car == 'subaru'? I predict True.\")\n",
        "print(car == \"subaru\") #this is a logical comparison; not printing string\n",
        "\n",
        "print(\"\\nIs car == 'audi'? I predict False\")\n",
        "print(car == 'audi')"
      ],
      "metadata": {
        "id": "Usq-CnrjCi71",
        "colab": {
          "base_uri": "https://localhost:8080/"
        },
        "outputId": "8eb32b12-015b-4663-bf55-a9f46f05982c"
      },
      "execution_count": null,
      "outputs": [
        {
          "output_type": "stream",
          "name": "stdout",
          "text": [
            "Is car == 'subaru'? I predict True.\n",
            "True\n",
            "\n",
            "Is car == 'audi'? I predict False\n",
            "False\n"
          ]
        }
      ]
    },
    {
      "cell_type": "code",
      "source": [
        "# If statement\n",
        "age = 5\n",
        "\n",
        "if age >= 18:\n",
        "    print(\"You are old enough to vote!\")\n",
        "    print(\"Have you registered to vote yet?\")\n",
        "    print(\"Oh ya, tak yah register pon\")\n",
        "else:\n",
        "    print(\"Too bad.. you have to wait for GE17\")\n"
      ],
      "metadata": {
        "id": "BN5LXsVWDN_b",
        "colab": {
          "base_uri": "https://localhost:8080/"
        },
        "outputId": "36ca6d07-cf89-41f6-e3ff-957be6392a02"
      },
      "execution_count": null,
      "outputs": [
        {
          "output_type": "stream",
          "name": "stdout",
          "text": [
            "Too bad.. you have to wait for GE17\n"
          ]
        }
      ]
    },
    {
      "cell_type": "code",
      "source": [
        "# Given the if-elif-else statement\n",
        "age = 55\n",
        "if age < 4:\n",
        "    print(\"Your admission rate is RM0.\")\n",
        "elif age < 18:\n",
        "    print(\"Your admission rate is RM5.\")\n",
        "else:\n",
        "    print(\"Your admission rate is RM10.\")"
      ],
      "metadata": {
        "colab": {
          "base_uri": "https://localhost:8080/"
        },
        "id": "5lNf9lMgEO4H",
        "outputId": "8422385e-c16a-4150-cb00-c68b8fec8550"
      },
      "execution_count": null,
      "outputs": [
        {
          "output_type": "stream",
          "name": "stdout",
          "text": [
            "Your admission rate is RM10.\n"
          ]
        }
      ]
    },
    {
      "cell_type": "code",
      "source": [
        "# Exercise 6 - Revising the previous code for a cleaner version\n",
        "user = 'andrew'\n",
        "age = 67\n",
        "\n",
        "if age < 4:\n",
        "    rate = 0\n",
        "elif age < 18:\n",
        "    rate = 5\n",
        "elif age < 65:\n",
        "    rate = 10\n",
        "else:\n",
        "    rate = 5\n",
        "\n",
        "    print(\"Your admission rate is RM\" + str(rate) + \",\" + (user.title())+\".\")\n"
      ],
      "metadata": {
        "id": "litAhuvSGR6l",
        "colab": {
          "base_uri": "https://localhost:8080/"
        },
        "outputId": "3c4945b4-b458-4196-c952-5706491b70b5"
      },
      "execution_count": null,
      "outputs": [
        {
          "output_type": "stream",
          "name": "stdout",
          "text": [
            "Your admission rate is RM5,Andrew.\n"
          ]
        }
      ]
    },
    {
      "cell_type": "code",
      "source": [
        "user"
      ],
      "metadata": {
        "colab": {
          "base_uri": "https://localhost:8080/"
        },
        "id": "tmshQx8tSlIi",
        "outputId": "bb3fc3c5-6594-4cb2-d75d-6fc360137f7f"
      },
      "execution_count": null,
      "outputs": [
        {
          "output_type": "execute_result",
          "data": {
            "text/plain": [
              "7"
            ]
          },
          "metadata": {},
          "execution_count": 47
        }
      ]
    },
    {
      "cell_type": "code",
      "source": [
        "# Exercise 7 - end the code using elif for easier interpretation\n",
        "age = 67\n",
        "if age < 4:\n",
        "    rate = 0\n",
        "elif age < 18:\n",
        "    rate = 5\n",
        "elif age < 65:\n",
        "    rate = 10\n",
        "elif age>= 65:\n",
        "    rate = 5\n",
        "\n",
        "    print(\"Your admission rate is RM\" + str(rate) + \",\" +(user.title())+\".\")"
      ],
      "metadata": {
        "id": "T6AvirgKHEWz",
        "colab": {
          "base_uri": "https://localhost:8080/"
        },
        "outputId": "4802790e-6482-4467-a776-8e8c57d1051c"
      },
      "execution_count": null,
      "outputs": [
        {
          "output_type": "stream",
          "name": "stdout",
          "text": [
            "Your admission rate is RM5,Andrew.\n"
          ]
        }
      ]
    },
    {
      "cell_type": "code",
      "source": [
        "# Exercise 8 - multiple if\n",
        "requested_topping = ['mushrooms', 'extra cheese']\n",
        "\n",
        "if 'mushrooms' in requested_topping:\n",
        "    print(\"Adding mushrooms\")\n",
        "if 'pepperoni' in requested_topping:\n",
        "    print(\"Adding pepperoni\")\n",
        "if 'extra cheese' in requested_topping:\n",
        "    print(\"Adding extra cheese\")\n",
        "\n",
        "print(\"\\nFinished making your pizza!!!!\")"
      ],
      "metadata": {
        "id": "FUPOtDHjXZAr",
        "colab": {
          "base_uri": "https://localhost:8080/"
        },
        "outputId": "9be0ea8b-235d-4aa5-d7c9-1f01287caaa9"
      },
      "execution_count": null,
      "outputs": [
        {
          "output_type": "stream",
          "name": "stdout",
          "text": [
            "Adding mushrooms\n",
            "Adding extra cheese\n",
            "\n",
            "Finished making your pizza!!!!\n"
          ]
        }
      ]
    },
    {
      "cell_type": "code",
      "source": [
        "# Exercise 9 - To check for special conditions / items\n",
        "requested_toppings = ['mushrooms', 'extra cheese', 'green peppers']\n",
        "\n",
        "for requested_topping in requested_toppings:\n",
        "    if requested_topping == 'green peppers':\n",
        "        print(\"Sorry, we are out of green peppers right now!!\")\n",
        "    else:\n",
        "        print(\"Adding \" + requested_topping + \".\")\n",
        "\n",
        "print(\"\\nFinished making your pizza!\")\n"
      ],
      "metadata": {
        "id": "sy9baNJxYusX",
        "colab": {
          "base_uri": "https://localhost:8080/"
        },
        "outputId": "5f2ce842-8a9f-4aa5-a22b-7f770eafca61"
      },
      "execution_count": null,
      "outputs": [
        {
          "output_type": "stream",
          "name": "stdout",
          "text": [
            "Adding mushrooms.\n",
            "Adding extra cheese.\n",
            "Sorry, we are out of green peppers right now!!\n",
            "\n",
            "Finished making your pizza!\n"
          ]
        }
      ]
    },
    {
      "cell_type": "code",
      "source": [
        "# Exercise 10 - Checking for a list that is empty\n",
        "# indentation is very important\n",
        "requested_toppings = []\n",
        "\n",
        "if requested_toppings:\n",
        "    for requested_topping in requested_toppings:\n",
        "        print(\"Adding\" + requested_topping + \".\")\n",
        "        print(\"\\nFinished making your pizza\")\n",
        "else:\n",
        "        print(\"Are you sure you want to make a plain pizza?\")\n"
      ],
      "metadata": {
        "id": "s_0W3DsnUq02",
        "colab": {
          "base_uri": "https://localhost:8080/"
        },
        "outputId": "ec75e2a5-7cb5-45a6-8a59-27d310d2c158"
      },
      "execution_count": null,
      "outputs": [
        {
          "output_type": "stream",
          "name": "stdout",
          "text": [
            "Are you sure you want to make a plain pizza?\n"
          ]
        }
      ]
    },
    {
      "cell_type": "code",
      "source": [
        "# Exercise 11 - Using multiple lists\n",
        "available_toppings = ['mushrooms', 'olives', 'green peppers', 'pepperoni',\n",
        "                      'pineapple', 'extra cheese']\n",
        "requested_toppings = ['mushrooms', 'french fries', 'extra cheese', 'crab meat']\n",
        "\n",
        "for requested_topping in requested_toppings:\n",
        "    if requested_topping in available_toppings:\n",
        "        print(\"Adding \" + requested_topping + \".\")\n",
        "    else:\n",
        "        print(\"Sorry, we don't have \" + requested_topping + \".\")\n",
        "\n",
        "print(\"\\nFinished making your pizza!\")"
      ],
      "metadata": {
        "id": "j4EyZ_3KhSAR",
        "colab": {
          "base_uri": "https://localhost:8080/"
        },
        "outputId": "c2f84c0d-8565-41a8-bd44-cb5036fbd2ad"
      },
      "execution_count": null,
      "outputs": [
        {
          "output_type": "stream",
          "name": "stdout",
          "text": [
            "Adding mushrooms.\n",
            "Sorry, we don't have french fries.\n",
            "Adding extra cheese.\n",
            "Sorry, we don't have crab meat.\n",
            "\n",
            "Finished making your pizza!\n"
          ]
        }
      ]
    },
    {
      "cell_type": "code",
      "source": [
        "# Exercise 12 - Accessing the value using the key in dictionary\n",
        "alien_0 = {'color': 'green', 'points':5}\n",
        "\n",
        "# get the alien's color\n",
        "print(alien_0 ['color'])\n",
        "# get the alien's point\n",
        "print(alien_0 ['points'])"
      ],
      "metadata": {
        "id": "DmUQQo0li7bg",
        "colab": {
          "base_uri": "https://localhost:8080/"
        },
        "outputId": "5bd8b442-a69f-4301-fd52-ca89ad36e097"
      },
      "execution_count": null,
      "outputs": [
        {
          "output_type": "stream",
          "name": "stdout",
          "text": [
            "green\n",
            "5\n"
          ]
        }
      ]
    },
    {
      "cell_type": "code",
      "source": [
        "# Start building the alien_0 dictionary from scratch\n",
        "alien_0 = {}\n",
        "alien_0 ['color'] = 'green'\n",
        "alien_0 ['points'] = 5\n",
        "\n",
        "print(alien_0)\n"
      ],
      "metadata": {
        "id": "w1jfQOdDayLN",
        "colab": {
          "base_uri": "https://localhost:8080/"
        },
        "outputId": "6abf373c-2343-4781-9f86-aa91069b9576"
      },
      "execution_count": null,
      "outputs": [
        {
          "output_type": "stream",
          "name": "stdout",
          "text": [
            "{'color': 'green', 'points': 5}\n"
          ]
        }
      ]
    },
    {
      "cell_type": "code",
      "source": [
        "alien_0"
      ],
      "metadata": {
        "colab": {
          "base_uri": "https://localhost:8080/"
        },
        "id": "emud4BEneaVW",
        "outputId": "8b5eefda-3e7c-4537-dba5-9a675c71288f"
      },
      "execution_count": null,
      "outputs": [
        {
          "output_type": "execute_result",
          "data": {
            "text/plain": [
              "{'color': 'green', 'points': 5}"
            ]
          },
          "metadata": {},
          "execution_count": 67
        }
      ]
    },
    {
      "cell_type": "code",
      "source": [
        "# Exercise 13 - extract the value from the dictionary\n",
        "# put in a variable called new_points\n",
        "# Print out the value\n",
        "alien_0 = {'color': 'green', 'points':5}\n",
        "\n",
        "#first extract the point out from dictionary\n",
        "new_points = alien_0['points']\n",
        "\n",
        "#printing the message\n",
        "print(\"You have just earn \" + str(new_points) + \" points\")\n"
      ],
      "metadata": {
        "id": "Dg5C29oafPu5",
        "colab": {
          "base_uri": "https://localhost:8080/"
        },
        "outputId": "45e933d4-28dd-49d8-fe4d-687ec813c2f7"
      },
      "execution_count": null,
      "outputs": [
        {
          "output_type": "stream",
          "name": "stdout",
          "text": [
            "You have just earn 5 points\n"
          ]
        }
      ]
    },
    {
      "cell_type": "code",
      "source": [
        "# Exercise 14 - change the color value in the dictionary\n",
        "alien_0['color']='Indigo'\n",
        "# Print out the new color\n",
        "print(\"The alien is now \" + alien_0['color'] + \".\")"
      ],
      "metadata": {
        "id": "aqLdYAec4UJi",
        "colab": {
          "base_uri": "https://localhost:8080/"
        },
        "outputId": "9f137a3c-4ca9-448c-9251-fb2139b899d2"
      },
      "execution_count": null,
      "outputs": [
        {
          "output_type": "stream",
          "name": "stdout",
          "text": [
            "The alien is now Indigo.\n"
          ]
        }
      ]
    },
    {
      "cell_type": "code",
      "source": [
        "from re import S\n",
        "# Exercise 15 - change the value in the dictionary; using if-elif-else statement\n",
        "alien_0 = {'x_position': 0, 'y_position': 25, 'speed': 'fast'}\n",
        "\n",
        "# Move the alien to the right.\n",
        "# Determine how far to move the alien based on its current speed.\n",
        "if alien_0['speed']== 'slow':\n",
        "    x_increment = 1\n",
        "elif alien_0['speed']== 'medium':\n",
        "    x_increment = 2\n",
        "elif alien_0['speed']== 'fast':\n",
        "    x_increment = 3\n",
        "\n",
        "# The new position is the old position plus the increment.\n",
        "alien_0['x_position'] = alien_0 ['x_position'] + x_increment\n",
        "\n",
        "print (\"New position is\" + alien_0['x_position]"
      ],
      "metadata": {
        "id": "vfDw_r_L5jPz"
      },
      "execution_count": null,
      "outputs": []
    },
    {
      "cell_type": "code",
      "source": [
        "# Exercise 16 - using del() function\n",
        "alien_0 = {'color': 'green', 'points': 5}\n",
        "print(alien_0)\n",
        "\n",
        "# Delete the points from the dictionary"
      ],
      "metadata": {
        "id": "efbBa0SB6hlj"
      },
      "execution_count": null,
      "outputs": []
    },
    {
      "cell_type": "code",
      "source": [
        "# Exercise 17 - break dictionary into several lines\n",
        "fav_prog = {\n",
        "    'jen':'python',\n",
        "    'sarah':'c',\n",
        "    'edward':'ruby',\n",
        "    'phil' : 'python'\n",
        "}\n",
        "\n",
        "print (\"Phil's favorite language is \" + fav_prog['phil'].title() + '.')\n"
      ],
      "metadata": {
        "id": "KtsGcBJC8MBy",
        "colab": {
          "base_uri": "https://localhost:8080/"
        },
        "outputId": "6047c71b-9a44-495e-dfa1-247519ffb8fe"
      },
      "execution_count": null,
      "outputs": [
        {
          "output_type": "stream",
          "name": "stdout",
          "text": [
            "Phil's favorite language is Python.\n"
          ]
        }
      ]
    },
    {
      "cell_type": "code",
      "source": [
        "# Exercise 18 - print out the key-value pairs using item() function\n",
        "# using the for function\n",
        "for name, sub in fav_prog.items():\n",
        "    print(name.title() + \"'s favorite language is \" + sub.title() )"
      ],
      "metadata": {
        "colab": {
          "base_uri": "https://localhost:8080/"
        },
        "id": "piktzd1c9b7c",
        "outputId": "1ea03eef-71a3-438a-b78f-349807bec8c5"
      },
      "execution_count": null,
      "outputs": [
        {
          "output_type": "stream",
          "name": "stdout",
          "text": [
            "Jen's favorite language is Python\n",
            "Sarah's favorite language is C\n",
            "Edward's favorite language is Ruby\n",
            "Phil's favorite language is Python\n"
          ]
        }
      ]
    },
    {
      "cell_type": "code",
      "source": [
        "# Exercise 19 - print out the key-value pairs using key() function\n",
        "favorite_languages = {\n",
        "    'jen': 'python',\n",
        "    'sarah': 'c',\n",
        "    'edward': 'ruby',\n",
        "    'phil': 'python',\n",
        "    }\n",
        "\n",
        "friends = ['phil', 'sarah']\n",
        "\n",
        "for name in fav_prog.keys():\n",
        "    if name in friends:\n",
        "        print(\"Hi \"+ name.title() + \", your favorite program is \" + favorite_languages[name].title() + \".\")"
      ],
      "metadata": {
        "id": "HDxDyGRj_LLh",
        "colab": {
          "base_uri": "https://localhost:8080/"
        },
        "outputId": "5cc786a1-0095-43d4-9148-0676c0b53611"
      },
      "execution_count": null,
      "outputs": [
        {
          "output_type": "stream",
          "name": "stdout",
          "text": [
            "Hi Sarah, your favorite program is C.\n",
            "Hi Phil, your favorite program is Python.\n"
          ]
        }
      ]
    },
    {
      "cell_type": "code",
      "source": [
        "# Exercise 20 - print out the key-value pairs using not in function\n",
        "favorite_languages = {\n",
        "    'jen': 'python',\n",
        "    'sarah': 'c',\n",
        "    'edward': 'ruby',\n",
        "    'phil': 'python',\n",
        "    }\n",
        "if 'anis' not in favorite_languages.keys():\n",
        "    print('Anis, Please study hard!!')"
      ],
      "metadata": {
        "id": "2SnKUKMEAA8t",
        "colab": {
          "base_uri": "https://localhost:8080/"
        },
        "outputId": "fa18e5d3-380a-43d2-e788-7f58b6fdc65f"
      },
      "execution_count": null,
      "outputs": [
        {
          "output_type": "stream",
          "name": "stdout",
          "text": [
            "Anis, Please study hard!!\n"
          ]
        }
      ]
    },
    {
      "cell_type": "code",
      "source": [
        "# Exercise 21 - Sort keys in order\n",
        "#Create a for loop in this case\n",
        "# use the sorted() to sort out key names in alphabetical order\n",
        "# Print out the message thanking them to take the poll\n",
        "favorite_languages = {\n",
        "    'jen': 'python',\n",
        "    'sarah': 'c',\n",
        "    'edward': 'ruby',\n",
        "    'phil': 'python',\n",
        "    }\n",
        "\n",
        "for name in sorted(favorite_languages.keys()):\n",
        "    print(name.title()+\", thank you for taking the poll.\")\n"
      ],
      "metadata": {
        "id": "6QBXlZM1Axk4",
        "colab": {
          "base_uri": "https://localhost:8080/"
        },
        "outputId": "6808df0c-58d8-4a1d-8214-5de61d758216"
      },
      "execution_count": 5,
      "outputs": [
        {
          "output_type": "stream",
          "name": "stdout",
          "text": [
            "Edward, thank you for taking the poll.\n",
            "Jen, thank you for taking the poll.\n",
            "Phil, thank you for taking the poll.\n",
            "Sarah, thank you for taking the poll.\n"
          ]
        }
      ]
    },
    {
      "cell_type": "code",
      "source": [
        "# Exercise 22 - Sort values in order\n",
        "# remove redundant value using set() function\n",
        "favorite_languages = {\n",
        "    'jen': 'python',\n",
        "    'sarah': 'c',\n",
        "    'edward': 'ruby',\n",
        "    'phil': 'python',\n",
        "    }\n",
        "\n",
        "#print an introductory message\n",
        "print(\"The following languages have been mentioned\")\n",
        "\n",
        "#Create a for loop in this case\n",
        "# use the sorted() to sort out the values in reverse alphabetical order\n",
        "# use set() function to remove redundant values\n",
        "\n",
        "for name in sorted(set(favorite_languages.values()), reverse = True):\n",
        "    print(name.title())"
      ],
      "metadata": {
        "id": "CGqvlY1-BQ55",
        "colab": {
          "base_uri": "https://localhost:8080/"
        },
        "outputId": "94e3ce7a-8b36-4050-ab0f-8a1d9d70f559"
      },
      "execution_count": 36,
      "outputs": [
        {
          "output_type": "stream",
          "name": "stdout",
          "text": [
            "The following languages have been mentioned\n",
            "Ruby\n",
            "Python\n",
            "C\n"
          ]
        }
      ]
    },
    {
      "cell_type": "code",
      "source": [
        "range(30)\n"
      ],
      "metadata": {
        "colab": {
          "base_uri": "https://localhost:8080/"
        },
        "id": "w6F-kzmTwbbC",
        "outputId": "993c42b8-b0a5-47a5-8d07-a3a63737d57a"
      },
      "execution_count": 32,
      "outputs": [
        {
          "output_type": "execute_result",
          "data": {
            "text/plain": [
              "range(0, 30)"
            ]
          },
          "metadata": {},
          "execution_count": 32
        }
      ]
    },
    {
      "cell_type": "code",
      "source": [
        "# Exercise 23 - append new data into dictionary using function\n",
        "# Make an empty list for storing aliens.\n",
        "aliens = []\n",
        "\n",
        "#Create a for loop to make 30 green aliens\n",
        "#Store in a variable named new_alien\n",
        "#using the append () function\n",
        "\n",
        "for alien_number in range(30):\n",
        "    new_alien = {'color':'green','points':5,'speed': 'slow'}\n",
        "    aliens.append(new_alien)\n",
        "\n",
        "#cretae a for loop and if-elif sttement\n",
        "\n",
        "for alien in aliens[0:3]:\n",
        "    if alien['color']== 'green':\n",
        "        alien['color']='yellow'\n",
        "        alien['speed']= 'medium'\n",
        "        alien['points']= 10\n",
        "    elif alien['color']=='yellow':\n",
        "        alien['color']='red'\n",
        "        alien['speed']='fast'\n",
        "        alien['points']=5\n",
        "\n",
        "#show first 5 aliens using a for loop\n",
        "for alien in aliens[0:5]:\n",
        "    print(alien)\n",
        "\n",
        "#show how many aliens have been created using the len() function\n",
        "\n",
        "len(aliens)\n",
        "print(\"\\n.....................................................\")\n",
        "print(\"\\nTotal number of aliens: \"+ str(len(aliens)))"
      ],
      "metadata": {
        "id": "CrP6r-jvBzht",
        "colab": {
          "base_uri": "https://localhost:8080/"
        },
        "outputId": "c434a534-5d25-4fac-c4e5-8a58fb73f738"
      },
      "execution_count": 45,
      "outputs": [
        {
          "output_type": "stream",
          "name": "stdout",
          "text": [
            "{'color': 'yellow', 'points': 10, 'speed': 'medium'}\n",
            "{'color': 'yellow', 'points': 10, 'speed': 'medium'}\n",
            "{'color': 'yellow', 'points': 10, 'speed': 'medium'}\n",
            "{'color': 'green', 'points': 5, 'speed': 'slow'}\n",
            "{'color': 'green', 'points': 5, 'speed': 'slow'}\n",
            "\n",
            ".....................................................\n",
            "\n",
            "Total number of aliens: 30\n"
          ]
        }
      ]
    },
    {
      "cell_type": "code",
      "source": [
        "aliens\n"
      ],
      "metadata": {
        "colab": {
          "base_uri": "https://localhost:8080/"
        },
        "id": "zC4QVSdzQRWi",
        "outputId": "01d96048-291e-470b-b73f-c7ee993080bc"
      },
      "execution_count": 39,
      "outputs": [
        {
          "output_type": "execute_result",
          "data": {
            "text/plain": [
              "[{'color': 'yellow', 'points': 10, 'speed': 'medium'},\n",
              " {'color': 'yellow', 'points': 10, 'speed': 'medium'},\n",
              " {'color': 'yellow', 'points': 10, 'speed': 'medium'},\n",
              " {'color': 'green', 'points': 5, 'speed': 'slow'},\n",
              " {'color': 'green', 'points': 5, 'speed': 'slow'},\n",
              " {'color': 'green', 'points': 5, 'speed': 'slow'},\n",
              " {'color': 'green', 'points': 5, 'speed': 'slow'},\n",
              " {'color': 'green', 'points': 5, 'speed': 'slow'},\n",
              " {'color': 'green', 'points': 5, 'speed': 'slow'},\n",
              " {'color': 'green', 'points': 5, 'speed': 'slow'},\n",
              " {'color': 'green', 'points': 5, 'speed': 'slow'},\n",
              " {'color': 'green', 'points': 5, 'speed': 'slow'},\n",
              " {'color': 'green', 'points': 5, 'speed': 'slow'},\n",
              " {'color': 'green', 'points': 5, 'speed': 'slow'},\n",
              " {'color': 'green', 'points': 5, 'speed': 'slow'},\n",
              " {'color': 'green', 'points': 5, 'speed': 'slow'},\n",
              " {'color': 'green', 'points': 5, 'speed': 'slow'},\n",
              " {'color': 'green', 'points': 5, 'speed': 'slow'},\n",
              " {'color': 'green', 'points': 5, 'speed': 'slow'},\n",
              " {'color': 'green', 'points': 5, 'speed': 'slow'},\n",
              " {'color': 'green', 'points': 5, 'speed': 'slow'},\n",
              " {'color': 'green', 'points': 5, 'speed': 'slow'},\n",
              " {'color': 'green', 'points': 5, 'speed': 'slow'},\n",
              " {'color': 'green', 'points': 5, 'speed': 'slow'},\n",
              " {'color': 'green', 'points': 5, 'speed': 'slow'},\n",
              " {'color': 'green', 'points': 5, 'speed': 'slow'},\n",
              " {'color': 'green', 'points': 5, 'speed': 'slow'},\n",
              " {'color': 'green', 'points': 5, 'speed': 'slow'},\n",
              " {'color': 'green', 'points': 5, 'speed': 'slow'},\n",
              " {'color': 'green', 'points': 5, 'speed': 'slow'}]"
            ]
          },
          "metadata": {},
          "execution_count": 39
        }
      ]
    },
    {
      "cell_type": "code",
      "source": [
        "# Exercise 24 - A list in the dictionary\n",
        "# Store information about a pizza being ordered.\n",
        "pizza = {\n",
        "    'crust': 'thick',\n",
        "    'toppings': ['mushrooms', 'extra cheese'],\n",
        "    }\n",
        "\n",
        "# Summarize the order.\n",
        "print(\"You ordered a \" + pizza['crust'] + \"-crust pizza with the following toppings: \")\n",
        "\n",
        "for topping in pizza['toppings']:\n",
        "    print(\"\\t\" + topping)  #\\t is adding tab\n"
      ],
      "metadata": {
        "id": "iA-z9NxRDixp",
        "colab": {
          "base_uri": "https://localhost:8080/"
        },
        "outputId": "d067e48d-5a6b-4f8e-e6db-539b0b1080d2"
      },
      "execution_count": 65,
      "outputs": [
        {
          "output_type": "stream",
          "name": "stdout",
          "text": [
            "You ordered a thick-crust pizza with the following toppings: \n",
            "\tmushrooms\n",
            "\textra cheese\n"
          ]
        }
      ]
    },
    {
      "cell_type": "code",
      "source": [
        "from IPython.core.interactiveshell import subprocess\n",
        "#Exercise 25\n",
        "# Given the following fav prog dictionary\n",
        "favorite_languages = {\n",
        "    'jen': ['python', 'ruby'],\n",
        "    'sarah': ['c'],\n",
        "    'edward': ['ruby', 'go'],\n",
        "    'phil': ['python', 'haskell'],\n",
        "    }\n",
        "\n",
        "# Create two for loops to print a message\n",
        "# Use items() function to access the key-value pair in dictionary\n",
        "# Use the keyword in\n",
        "\n",
        "for name, subs in favorite_languages.items():\n",
        "    print(name.title() + \"'s favorite language are: \")\n",
        "    for sub in subs:\n",
        "        print(\"\\t\"+sub.title())\n",
        "\n"
      ],
      "metadata": {
        "id": "q0MODSGDFsgU",
        "colab": {
          "base_uri": "https://localhost:8080/"
        },
        "outputId": "8f0a2479-fbcf-457c-8665-24c2d80789ba"
      },
      "execution_count": 81,
      "outputs": [
        {
          "output_type": "stream",
          "name": "stdout",
          "text": [
            "Jen's favorite language are: \n",
            "\tPython\n",
            "\tRuby\n",
            "Sarah's favorite language are: \n",
            "\tC\n",
            "Edward's favorite language are: \n",
            "\tRuby\n",
            "\tGo\n",
            "Phil's favorite language are: \n",
            "\tPython\n",
            "\tHaskell\n"
          ]
        }
      ]
    },
    {
      "cell_type": "code",
      "source": [
        "# Exercise 26 - A dictionary in a dictionary\n",
        "# Given the following famous scientists dictionary\n",
        "users = {\n",
        "    'aeinstein': {\n",
        "        'first': 'albert',\n",
        "        'last': 'einstein',\n",
        "        'location': 'princeton',\n",
        "        },\n",
        "    'mcurie': {\n",
        "        'first': 'marie',\n",
        "        'last': 'curie',\n",
        "        'location': 'paris',\n",
        "        }\n",
        "    }\n",
        "\n",
        "# Create a for loop to print the message\n",
        "# Use the items() function to access the key-value pairs in the dictionary\n",
        "\n",
        "for username, detail in users.items():\n",
        "    print(\"Username: \"+ username)\n",
        "    full_name = detail['first']+ \" \"+ detail['last']\n",
        "    location = detail['location']\n",
        "\n",
        "    print(\"\\tFull name: \"+ full_name.title())\n",
        "    print(\"\\tLocation:\"+ location.title())\n"
      ],
      "metadata": {
        "id": "wWibIDl0Gw2O",
        "colab": {
          "base_uri": "https://localhost:8080/"
        },
        "outputId": "1a8e4962-d08e-49bd-e827-fb62e750da57"
      },
      "execution_count": 86,
      "outputs": [
        {
          "output_type": "stream",
          "name": "stdout",
          "text": [
            "Username: aeinstein\n",
            "\tFull name: Albert Einstein\n",
            "\tLocation:Princeton\n",
            "Username: mcurie\n",
            "\tFull name: Marie Curie\n",
            "\tLocation:Paris\n"
          ]
        }
      ]
    },
    {
      "cell_type": "markdown",
      "source": [
        "#Part 3: User Input and While Loops"
      ],
      "metadata": {
        "id": "j_Kr2hNQbAAX"
      }
    },
    {
      "cell_type": "code",
      "source": [
        "# Exercise 27 - using input()\n",
        "# Use the input() function to get a response from user\n",
        "# Print out the message\n",
        "message = input(\"Tell me something, and I will repeat it back to you: \")\n",
        "print(message)\n",
        "\n",
        "# Use the input() function to get user's name\n",
        "# print out the message\n",
        "nama = input(\"\\nPlease tell me your name: \")\n",
        "print(\"Hello, \" + nama+ \"!\")\n",
        "\n",
        "# Use the input() function to get user's first name\n",
        "# print out the message\n",
        "\n",
        "msg = \"\\nIf you tell us who you are, we can personalize a message just for you. \\\n",
        "What is your first name: \"\n",
        "\n",
        "name = input(msg)\n",
        "print(\"Hello, \"+ name+ \"!\")\n"
      ],
      "metadata": {
        "id": "xY2CS0_CIEqr",
        "colab": {
          "base_uri": "https://localhost:8080/"
        },
        "outputId": "ad1d56a8-aa2e-4b38-90d2-aa0b90d06ab5"
      },
      "execution_count": 100,
      "outputs": [
        {
          "output_type": "stream",
          "name": "stdout",
          "text": [
            "Tell me something, and I will repeat it back to you: sunday\n",
            "sunday\n",
            "\n",
            "Please tell me your name: anis\n",
            "Hello, anis!\n",
            "\n",
            "If you tell us who you are, we can personalize a message just for you. What is your first name: anuar\n",
            "Hello, anuar!\n"
          ]
        }
      ]
    },
    {
      "cell_type": "code",
      "source": [
        "# Exercise 28 - using int() to accept numerical input: True of False\n",
        "# Using the input() to get the age of users\n",
        "# Test the input prompt for age by inputting the following info\n",
        "# 1) 18 #can put int(input())\n",
        "# 2) Eighteen #cannot put int(input())\n",
        "age = int(input(\"How old are you? \"))\n",
        "\n",
        "# Logical test\n",
        "# Would prompt an error\n",
        "\n",
        "# How to fix it?\n",
        "# age=int(age)\n",
        "age>=18\n"
      ],
      "metadata": {
        "id": "uWq2dvg3JR6c",
        "colab": {
          "base_uri": "https://localhost:8080/"
        },
        "outputId": "0858afe4-262b-4d66-e83c-254ae0c37662"
      },
      "execution_count": 105,
      "outputs": [
        {
          "name": "stdout",
          "output_type": "stream",
          "text": [
            "How old are you? 18\n"
          ]
        },
        {
          "output_type": "execute_result",
          "data": {
            "text/plain": [
              "True"
            ]
          },
          "metadata": {},
          "execution_count": 105
        }
      ]
    },
    {
      "cell_type": "code",
      "source": [
        "# Exercise 29 - using int()to accept numerical input and check for certain condition\n",
        "# Create an input() function to get the height in cm from users\n",
        "# Use the int() to convert the height to numeric\n",
        "\n",
        "height =input(\"how tall are you, in cm? \")\n",
        "height = int(height)\n",
        "\n",
        "# Checking for condition using if-else statement\n",
        "# Print the following message\n",
        "\n",
        "if height >=90:\n",
        "    print(\"\\n You are tall enough to ride!\")\n",
        "else:\n",
        "    print(\"\\n Sorry, you are not tall enough to ride..\")\n",
        "\n"
      ],
      "metadata": {
        "id": "XR0IMpnzK7Ne",
        "colab": {
          "base_uri": "https://localhost:8080/"
        },
        "outputId": "c6571a36-6f0c-45c5-b7d0-0efdff906957"
      },
      "execution_count": 112,
      "outputs": [
        {
          "output_type": "stream",
          "name": "stdout",
          "text": [
            "how tall are you, in cm? 87\n",
            "\n",
            " Sorry, you are not tall enough to ride..\n"
          ]
        }
      ]
    },
    {
      "cell_type": "code",
      "source": [
        "# Exercise 30 - The modulo operator to print message\n",
        "# Use the input() and int() function to get a number from user\n",
        "\n",
        "\n",
        "# Create an if-else statement to check whether the number given is an odd or even number\n",
        "# Use the modulo sign to check for odd and even condition\n",
        "\n",
        "number = int(input(\"Enter a number, and I'll tell you if it's even or odd: \"))\n",
        "\n",
        "if number % 2 == 0:\n",
        "    print(\"\\nThe number \"+ str (number) +\" is even.\")\n",
        "else:\n",
        "    print(\"\\nThe number \"+ str (number) + \" is odd.\")\n"
      ],
      "metadata": {
        "id": "x9OlZPDYL2ne",
        "colab": {
          "base_uri": "https://localhost:8080/"
        },
        "outputId": "494db1a0-6971-457e-a32b-aaa40b2783a8"
      },
      "execution_count": 117,
      "outputs": [
        {
          "output_type": "stream",
          "name": "stdout",
          "text": [
            "Enter a number, and I'll tell you if it's even or odd: 27\n",
            "\n",
            "The number 27 is odd.\n"
          ]
        }
      ]
    },
    {
      "cell_type": "code",
      "source": [
        "#Exercise 31\n",
        "# Define the current_number as 1\n",
        "current_number = 1\n",
        "\n",
        "# Use the while loop to increase the number\n",
        "# Print out the incremented number\n",
        "\n",
        "while ()"
      ],
      "metadata": {
        "id": "9bc_CWa0k_h5"
      },
      "execution_count": null,
      "outputs": []
    },
    {
      "cell_type": "code",
      "source": [
        "#32\n",
        "# Create a prompt message\n",
        "\n",
        "msg = \"\\nTell me something, and I will repeat it back to you! \"\n",
        "msg += \"\\nEnter 'quit' to end the program \"\n",
        "\n",
        "# Define an empty message\n",
        "message = \" \"\n",
        "\n",
        "\n",
        "# Create a while loop to continuously getting response from users\n",
        "# Quit the while loop if user input 'quit'\n",
        "\n",
        "while message != 'quit':\n",
        "    message = input(msg)\n",
        "    print(message)\n",
        "\n",
        "    if message == 'quit':\n",
        "        print(message)"
      ],
      "metadata": {
        "colab": {
          "base_uri": "https://localhost:8080/"
        },
        "id": "QLLq4umFlNxB",
        "outputId": "b04b2e76-bb77-4852-9ec3-69217e1ca78d"
      },
      "execution_count": 125,
      "outputs": [
        {
          "output_type": "stream",
          "name": "stdout",
          "text": [
            "\n",
            "Tell me something, and I will repeat it back to you! \n",
            "Enter 'quit' to end the program anis\n",
            "anis\n",
            "\n",
            "Tell me something, and I will repeat it back to you! \n",
            "Enter 'quit' to end the program afiqah\n",
            "afiqah\n",
            "\n",
            "Tell me something, and I will repeat it back to you! \n",
            "Enter 'quit' to end the program quit\n",
            "quit\n",
            "quit\n"
          ]
        }
      ]
    },
    {
      "cell_type": "code",
      "source": [
        "#33 - Using a flag as a signal\n",
        "# Create a prompt message\n",
        "prompt = \"\\nTell me something, and I will repeat it back to you:\"\n",
        "prompt += \"\\nEnter 'quit' to end the program. \"\n",
        "\n",
        "# Define a flag\n",
        "active = True #this is the flag i said just now\n",
        "\n",
        "# Incorporate the flag in the while loop\n",
        "\n",
        "while active:\n",
        "    message =input(prompt)\n",
        "\n",
        "    if message == 'quit':\n",
        "        active = False\n",
        "    else:\n",
        "        print(message)"
      ],
      "metadata": {
        "colab": {
          "base_uri": "https://localhost:8080/"
        },
        "id": "G5Q_0BGmlmiJ",
        "outputId": "1fa80a66-3de7-44ad-bb85-e37de4250580"
      },
      "execution_count": 126,
      "outputs": [
        {
          "name": "stdout",
          "output_type": "stream",
          "text": [
            "\n",
            "Tell me something, and I will repeat it back to you:\n",
            "Enter 'quit' to end the program. xyz\n",
            "xyz\n",
            "\n",
            "Tell me something, and I will repeat it back to you:\n",
            "Enter 'quit' to end the program. anis\n",
            "anis\n",
            "\n",
            "Tell me something, and I will repeat it back to you:\n",
            "Enter 'quit' to end the program. quit\n"
          ]
        }
      ]
    },
    {
      "cell_type": "code",
      "source": [
        "#34: using break to exit loop\n",
        "# Create a prompt message\n",
        "prompt = \"\\nPlease enter the name of a city you have visited:\"\n",
        "prompt += \"\\n(Enter 'quit' when you are finished.) \"\n",
        "\n",
        "# Create a while loop and incorporate a flag\n",
        "# Print the message\n",
        "\n",
        "\n",
        "while True:\n",
        "    city = input(prompt)\n",
        "\n",
        "    if city == 'quit':\n",
        "        break\n",
        "    else:\n",
        "        print(\"I'd love to go to \"+ city.title() + \"!\")"
      ],
      "metadata": {
        "colab": {
          "base_uri": "https://localhost:8080/"
        },
        "id": "w0zRelE4nme7",
        "outputId": "d13c0280-ecb5-4188-ba06-b3b46335d66e"
      },
      "execution_count": 128,
      "outputs": [
        {
          "name": "stdout",
          "output_type": "stream",
          "text": [
            "\n",
            "Please enter the name of a city you have visited:\n",
            "(Enter 'quit' when you are finished.) Bangi\n",
            "I'd love to go to Bangi!\n",
            "\n",
            "Please enter the name of a city you have visited:\n",
            "(Enter 'quit' when you are finished.) quit\n"
          ]
        }
      ]
    },
    {
      "cell_type": "code",
      "source": [
        "#35 - Using continue in a loop\n",
        "# Define current_number as 0\n",
        "# Create a while loop to update current_number plus 1\n",
        "# Continue the while loop without increment if it is an even number\n",
        "# Use the modulo sign in this case\n",
        "# Print out the message\n",
        "\n",
        "current_number = 0\n",
        "\n",
        "while current_number<50:\n",
        "    current_number += 1\n",
        "\n",
        "    if current_number %2 ==0:\n",
        "        continue\n",
        "    print(current_number)\n",
        "\n"
      ],
      "metadata": {
        "colab": {
          "base_uri": "https://localhost:8080/"
        },
        "id": "Yde_OVa6np9q",
        "outputId": "aa5613b8-3bf1-490c-f1a7-174e805a4340"
      },
      "execution_count": 137,
      "outputs": [
        {
          "output_type": "stream",
          "name": "stdout",
          "text": [
            "1\n",
            "3\n",
            "5\n",
            "7\n",
            "9\n",
            "11\n",
            "13\n",
            "15\n",
            "17\n",
            "19\n",
            "21\n",
            "23\n",
            "25\n",
            "27\n",
            "29\n",
            "31\n",
            "33\n",
            "35\n",
            "37\n",
            "39\n",
            "41\n",
            "43\n",
            "45\n",
            "47\n",
            "49\n"
          ]
        }
      ]
    },
    {
      "cell_type": "code",
      "source": [
        "#Exercise 36: Using pop() function to move Items\n",
        "# Start with users that need to be verified - unconfirmed_users\n",
        "# Creaye an empty list to hold confirmed users\n",
        "unconfirmed_users = ['alice', 'brian', 'candace']\n",
        "confirmed_users = []\n",
        "\n",
        "# Verify each user until there are no more unconfirmed users\n",
        "# Move each verified user into the list of confirmed users\n",
        "# By using the while loop\n",
        "# Incorporate the pop() and append() function\n",
        "while unconfirmed_users:\n",
        "    current_user=unconfirmed_users.pop()\n",
        "\n",
        "    print(\"Verifying user: \"+ current_user.title())\n",
        "    confirmed_users.append(current_user)\n",
        "\n",
        "# Display all confirmed users\n",
        "# Incorporate for loop in this case\n",
        "\n",
        "print(\"\\nThe following users have been confirmed: \")\n",
        "for confirmed_user in confirmed_users:\n",
        "    print(confirmed_user.title())\n",
        "\n",
        "# Print the final unconfirmed_users list"
      ],
      "metadata": {
        "colab": {
          "base_uri": "https://localhost:8080/"
        },
        "id": "UwgMUsMGoo7X",
        "outputId": "ab255aef-8ea7-4b0d-dc37-09ca49931b2b"
      },
      "execution_count": 139,
      "outputs": [
        {
          "output_type": "stream",
          "name": "stdout",
          "text": [
            "Verifying user: Candace\n",
            "Verifying user: Brian\n",
            "Verifying user: Alice\n",
            "\n",
            "The following users have been confirmed: \n",
            "Candace\n",
            "Brian\n",
            "Alice\n"
          ]
        }
      ]
    },
    {
      "cell_type": "code",
      "source": [
        "#Exercise 37: Removing All Instances of Specific Values from a List\n",
        "# Given the list of pets\n",
        "pets = ['dog', 'cat', 'dog', 'goldfish', 'cat', 'rabbit', 'cat']\n",
        "\n",
        "# Print out the list of pets available\n",
        "print(pets)\n",
        "\n",
        "# Use a while loop to remove a pet if it is in the list\n",
        "# Use the remove() function\n",
        "# print out the final list of pets\n",
        "\n",
        "while 'dog' in pets:\n",
        "    pets.remove('dog')\n",
        "print(pets)"
      ],
      "metadata": {
        "colab": {
          "base_uri": "https://localhost:8080/"
        },
        "id": "22mMIpnHrOYK",
        "outputId": "e091bb84-4172-4197-8e02-c16d2879d5e3"
      },
      "execution_count": 141,
      "outputs": [
        {
          "output_type": "stream",
          "name": "stdout",
          "text": [
            "['dog', 'cat', 'dog', 'goldfish', 'cat', 'rabbit', 'cat']\n",
            "['cat', 'goldfish', 'cat', 'rabbit', 'cat']\n"
          ]
        }
      ]
    },
    {
      "cell_type": "code",
      "source": [
        "#Exercise 38: Filling a Dictionary with User Input\n",
        "# Define an empty library named responses\n",
        "\n",
        "responses = {}\n",
        "\n",
        "# Set a flag to indicate that polling is active.\n",
        "\n",
        "polling = True\n",
        "\n",
        "# Use a while loop\n",
        "\n",
        "while polling:\n",
        "    name = input(\"\\nWhat is your name? \")\n",
        "    response = input(\"Which mountain would you like to conquer in near future? \")\n",
        "\n",
        "    #store these respponse in the library\n",
        "    #name here is key, response is value\n",
        "    responses[name]=response\n",
        "\n",
        "    #find out who else wanted to conquer a mountain\n",
        "    repeat = input(\"Would you like to invite your better half to conquer together? (yes/no) \")\n",
        "    if repeat == 'no':\n",
        "        polling = False\n",
        "\n",
        "# Polling is complete. Show the results.\n",
        "\n",
        "print(\"\\n--Poll results--\")\n",
        "for name, mountain in responses.items():\n",
        "    print(name+\" would like to climb \" + mountain.title() + \".\")\n",
        "\n",
        "# Print out the final responses dictionary\n",
        "print(\"\\nThe final response library is like this: \")\n",
        "print(responses)"
      ],
      "metadata": {
        "colab": {
          "base_uri": "https://localhost:8080/"
        },
        "id": "NOEspkjftdBf",
        "outputId": "b86ff83a-81c0-4a55-8baa-7562edd04b74"
      },
      "execution_count": 148,
      "outputs": [
        {
          "output_type": "stream",
          "name": "stdout",
          "text": [
            "\n",
            "What is your name? Anis\n",
            "Which mountain would you like to conquer in near future? Kinabalu\n",
            "Would you like to invite your better half to conquer together? (yes/no) yes\n",
            "\n",
            "What is your name? Mas\n",
            "Which mountain would you like to conquer in near future? Bukit Gasing\n",
            "Would you like to invite your better half to conquer together? (yes/no) no\n",
            "\n",
            "--Poll results--\n",
            "Anis would like to climb Kinabalu.\n",
            "Mas would like to climb Bukit Gasing.\n",
            "\n",
            "The final response library is like this: \n",
            "{'Anis': 'Kinabalu', 'Mas': 'Bukit Gasing'}\n"
          ]
        }
      ]
    },
    {
      "cell_type": "code",
      "source": [
        "responses\n"
      ],
      "metadata": {
        "colab": {
          "base_uri": "https://localhost:8080/"
        },
        "id": "uaZZ5o4ovW5X",
        "outputId": "46316f5c-8939-468b-f563-7608a4834337"
      },
      "execution_count": 145,
      "outputs": [
        {
          "output_type": "execute_result",
          "data": {
            "text/plain": [
              "{'Anis': 'Mount Kinabalu'}"
            ]
          },
          "metadata": {},
          "execution_count": 145
        }
      ]
    }
  ]
}