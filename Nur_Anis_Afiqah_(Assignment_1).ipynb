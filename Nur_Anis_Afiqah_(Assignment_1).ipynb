{
  "nbformat": 4,
  "nbformat_minor": 0,
  "metadata": {
    "colab": {
      "provenance": [],
      "authorship_tag": "ABX9TyPjbyzStxvGlHr343v49w3c",
      "include_colab_link": true
    },
    "kernelspec": {
      "name": "python3",
      "display_name": "Python 3"
    },
    "language_info": {
      "name": "python"
    }
  },
  "cells": [
    {
      "cell_type": "markdown",
      "metadata": {
        "id": "view-in-github",
        "colab_type": "text"
      },
      "source": [
        "<a href=\"https://colab.research.google.com/github/AnisAfiqah13/STQD6014-DATA-SCIENCE/blob/main/Nur_Anis_Afiqah_(Assignment_1).ipynb\" target=\"_parent\"><img src=\"https://colab.research.google.com/assets/colab-badge.svg\" alt=\"Open In Colab\"/></a>"
      ]
    },
    {
      "cell_type": "markdown",
      "source": [
        "\n",
        "##NAME: NUR ANIS AFIQAH##\n",
        "##ID: P132838##\n",
        "\n"
      ],
      "metadata": {
        "id": "l2cV1oWF0pzo"
      }
    },
    {
      "cell_type": "code",
      "source": [
        "def set_data(name, scores):\n",
        "    student = {}\n",
        "    student['name'] = name\n",
        "    student['scores'] = scores\n",
        "    return student\n",
        "\n",
        "def calculate_average(student):\n",
        "    return sum(student['scores']) / len(student['scores'])\n",
        "\n",
        "def input_student_data():\n",
        "    num_students = int(input(\"\\nEnter the number of students: \"))\n",
        "    students = []\n",
        "\n",
        "#use append () function\n",
        "    for _ in range(num_students):\n",
        "        name = input(\"\\nEnter student name: \")\n",
        "        scores = [float(input(f\"Enter score for subject {subject}: \")) for subject in ['Calculus', 'Algebra', 'Statistic']]\n",
        "        student = set_data(name, scores)\n",
        "        students.append(student)\n",
        "\n",
        "    return students\n",
        "\n",
        "def find_highest_and_lowest(students):\n",
        "    highest_score = max(calculate_average(student) for student in students)\n",
        "    lowest_score = min(calculate_average(student) for student in students)\n",
        "\n",
        "    highest_students = [student for student in students if calculate_average(student) == highest_score]\n",
        "    lowest_students = [student for student in students if calculate_average(student) == lowest_score]\n",
        "\n",
        "    return highest_students, lowest_students\n",
        "\n",
        "\n",
        "students = input_student_data()\n",
        "\n",
        "print(\"\\n---------------RESULT-------------------\")\n",
        "\n",
        "# Average score for each student\n",
        "# use f-string\n",
        "# .2f mean use 2 decimal points\n",
        "\n",
        "for student in students:\n",
        "    average_score = calculate_average(student)\n",
        "    print(f\"\\n{student['name']}'s average score: {average_score:.2f}\")\n",
        "\n",
        "# Students with the highest and lowest scores including similar scores shared\n",
        "highest_students, lowest_students = find_highest_and_lowest(students)\n",
        "\n",
        "print(\"\\nStudents with the highest scores:\")\n",
        "for student in highest_students:\n",
        "    print(f\"{student['name']}: {calculate_average(student):.2f}\")\n",
        "\n",
        "print(\"\\nStudents with the lowest scores:\")\n",
        "for student in lowest_students:\n",
        "    print(f\"{student['name']}: {calculate_average(student):.2f}\")\n"
      ],
      "metadata": {
        "colab": {
          "base_uri": "https://localhost:8080/"
        },
        "id": "VPQPI4NtNjVG",
        "outputId": "783339eb-477d-4020-8dcd-ce422bd2ca62"
      },
      "execution_count": 33,
      "outputs": [
        {
          "output_type": "stream",
          "name": "stdout",
          "text": [
            "\n",
            "Enter the number of students: 3\n",
            "\n",
            "Enter student name: anis\n",
            "Enter score for subject Calculus: 98\n",
            "Enter score for subject Algebra: 75.5\n",
            "Enter score for subject Statistic: 76\n",
            "\n",
            "Enter student name: af\n",
            "Enter score for subject Calculus: 98\n",
            "Enter score for subject Algebra: 75.5\n",
            "Enter score for subject Statistic: 76\n",
            "\n",
            "Enter student name: aq\n",
            "Enter score for subject Calculus: 76\n",
            "Enter score for subject Algebra: 77\n",
            "Enter score for subject Statistic: 78\n",
            "\n",
            "---------------RESULT-------------------\n",
            "\n",
            "anis's average score: 83.17\n",
            "\n",
            "af's average score: 83.17\n",
            "\n",
            "aq's average score: 77.00\n",
            "\n",
            "Students with the highest scores:\n",
            "anis: 83.17\n",
            "af: 83.17\n",
            "\n",
            "Students with the lowest scores:\n",
            "aq: 77.00\n"
          ]
        }
      ]
    }
  ]
}